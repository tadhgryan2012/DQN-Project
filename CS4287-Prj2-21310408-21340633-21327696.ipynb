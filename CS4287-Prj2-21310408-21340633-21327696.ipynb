{
 "cells": [
  {
   "cell_type": "markdown",
   "metadata": {},
   "source": [
    "# DQN Project Part 3\n",
    "\n",
    "Code runs through until completion\n",
    "\n",
    "## Contributors: \n",
    "- Tadhg Ryan (21310408)\n",
    "- Craig Phayer (21340633)\n",
    "- Thomas McCarty (21327696)\n"
   ]
  },
  {
   "cell_type": "code",
   "execution_count": 4,
   "metadata": {},
   "outputs": [
    {
     "name": "stdout",
     "output_type": "stream",
     "text": [
      "Requirement already satisfied: pip in c:\\users\\21310408\\appdata\\local\\anaconda3\\envs\\tf-env\\lib\\site-packages (24.3.1)\n",
      "Note: you may need to restart the kernel to use updated packages.\n",
      "Note: you may need to restart the kernel to use updated packages.\n",
      "Collecting gymnasium==0.29.1 (from gymnasium[atari]==0.29.1)\n",
      "  Using cached gymnasium-0.29.1-py3-none-any.whl.metadata (10 kB)\n",
      "Requirement already satisfied: numpy>=1.21.0 in c:\\users\\21310408\\appdata\\local\\anaconda3\\envs\\tf-env\\lib\\site-packages (from gymnasium==0.29.1->gymnasium[atari]==0.29.1) (1.26.4)\n",
      "Requirement already satisfied: cloudpickle>=1.2.0 in c:\\users\\21310408\\appdata\\local\\anaconda3\\envs\\tf-env\\lib\\site-packages (from gymnasium==0.29.1->gymnasium[atari]==0.29.1) (3.1.0)\n",
      "Requirement already satisfied: typing-extensions>=4.3.0 in c:\\users\\21310408\\appdata\\roaming\\python\\python310\\site-packages (from gymnasium==0.29.1->gymnasium[atari]==0.29.1) (4.12.2)\n",
      "Requirement already satisfied: farama-notifications>=0.0.1 in c:\\users\\21310408\\appdata\\local\\anaconda3\\envs\\tf-env\\lib\\site-packages (from gymnasium==0.29.1->gymnasium[atari]==0.29.1) (0.0.4)\n",
      "Requirement already satisfied: shimmy<1.0,>=0.1.0 in c:\\users\\21310408\\appdata\\local\\anaconda3\\envs\\tf-env\\lib\\site-packages (from shimmy[atari]<1.0,>=0.1.0; extra == \"atari\"->gymnasium[atari]==0.29.1) (0.2.1)\n",
      "Requirement already satisfied: ale-py~=0.8.1 in c:\\users\\21310408\\appdata\\local\\anaconda3\\envs\\tf-env\\lib\\site-packages (from shimmy[atari]<1.0,>=0.1.0; extra == \"atari\"->gymnasium[atari]==0.29.1) (0.8.1)\n",
      "Requirement already satisfied: importlib-resources in c:\\users\\21310408\\appdata\\local\\anaconda3\\envs\\tf-env\\lib\\site-packages (from ale-py~=0.8.1->shimmy[atari]<1.0,>=0.1.0; extra == \"atari\"->gymnasium[atari]==0.29.1) (6.4.5)\n",
      "Using cached gymnasium-0.29.1-py3-none-any.whl (953 kB)\n",
      "Installing collected packages: gymnasium\n",
      "  Attempting uninstall: gymnasium\n",
      "    Found existing installation: gymnasium 1.0.0\n",
      "    Uninstalling gymnasium-1.0.0:\n",
      "      Successfully uninstalled gymnasium-1.0.0\n",
      "Successfully installed gymnasium-0.29.1\n",
      "Note: you may need to restart the kernel to use updated packages.\n",
      "Requirement already satisfied: gymnasium==0.29.1 in c:\\users\\21310408\\appdata\\local\\anaconda3\\envs\\tf-env\\lib\\site-packages (from gymnasium[ActionWrapper,accept-rom-license,box2d,classic_control]==0.29.1) (0.29.1)\n",
      "Requirement already satisfied: numpy>=1.21.0 in c:\\users\\21310408\\appdata\\local\\anaconda3\\envs\\tf-env\\lib\\site-packages (from gymnasium==0.29.1->gymnasium[ActionWrapper,accept-rom-license,box2d,classic_control]==0.29.1) (1.26.4)\n",
      "Requirement already satisfied: cloudpickle>=1.2.0 in c:\\users\\21310408\\appdata\\local\\anaconda3\\envs\\tf-env\\lib\\site-packages (from gymnasium==0.29.1->gymnasium[ActionWrapper,accept-rom-license,box2d,classic_control]==0.29.1) (3.1.0)\n",
      "Requirement already satisfied: typing-extensions>=4.3.0 in c:\\users\\21310408\\appdata\\roaming\\python\\python310\\site-packages (from gymnasium==0.29.1->gymnasium[ActionWrapper,accept-rom-license,box2d,classic_control]==0.29.1) (4.12.2)\n",
      "Requirement already satisfied: farama-notifications>=0.0.1 in c:\\users\\21310408\\appdata\\local\\anaconda3\\envs\\tf-env\\lib\\site-packages (from gymnasium==0.29.1->gymnasium[ActionWrapper,accept-rom-license,box2d,classic_control]==0.29.1) (0.0.4)\n",
      "Requirement already satisfied: autorom~=0.4.2 in c:\\users\\21310408\\appdata\\local\\anaconda3\\envs\\tf-env\\lib\\site-packages (from autorom[accept-rom-license]~=0.4.2; extra == \"accept-rom-license\"->gymnasium[ActionWrapper,accept-rom-license,box2d,classic_control]==0.29.1) (0.4.2)\n",
      "Requirement already satisfied: pygame>=2.1.3 in c:\\users\\21310408\\appdata\\local\\anaconda3\\envs\\tf-env\\lib\\site-packages (from gymnasium[ActionWrapper,accept-rom-license,box2d,classic_control]==0.29.1) (2.6.1)\n",
      "Requirement already satisfied: box2d-py==2.3.5 in c:\\users\\21310408\\appdata\\local\\anaconda3\\envs\\tf-env\\lib\\site-packages (from gymnasium[ActionWrapper,accept-rom-license,box2d,classic_control]==0.29.1) (2.3.5)\n",
      "Requirement already satisfied: swig==4.* in c:\\users\\21310408\\appdata\\local\\anaconda3\\envs\\tf-env\\lib\\site-packages (from gymnasium[ActionWrapper,accept-rom-license,box2d,classic_control]==0.29.1) (4.3.0)\n",
      "Requirement already satisfied: click in c:\\users\\21310408\\appdata\\local\\anaconda3\\envs\\tf-env\\lib\\site-packages (from autorom~=0.4.2->autorom[accept-rom-license]~=0.4.2; extra == \"accept-rom-license\"->gymnasium[ActionWrapper,accept-rom-license,box2d,classic_control]==0.29.1) (8.1.7)\n",
      "Requirement already satisfied: requests in c:\\users\\21310408\\appdata\\local\\anaconda3\\envs\\tf-env\\lib\\site-packages (from autorom~=0.4.2->autorom[accept-rom-license]~=0.4.2; extra == \"accept-rom-license\"->gymnasium[ActionWrapper,accept-rom-license,box2d,classic_control]==0.29.1) (2.32.3)\n",
      "Requirement already satisfied: tqdm in c:\\users\\21310408\\appdata\\local\\anaconda3\\envs\\tf-env\\lib\\site-packages (from autorom~=0.4.2->autorom[accept-rom-license]~=0.4.2; extra == \"accept-rom-license\"->gymnasium[ActionWrapper,accept-rom-license,box2d,classic_control]==0.29.1) (4.67.1)\n",
      "Requirement already satisfied: AutoROM.accept-rom-license in c:\\users\\21310408\\appdata\\local\\anaconda3\\envs\\tf-env\\lib\\site-packages (from autorom[accept-rom-license]~=0.4.2; extra == \"accept-rom-license\"->gymnasium[ActionWrapper,accept-rom-license,box2d,classic_control]==0.29.1) (0.6.1)\n",
      "Requirement already satisfied: colorama in c:\\users\\21310408\\appdata\\roaming\\python\\python310\\site-packages (from click->autorom~=0.4.2->autorom[accept-rom-license]~=0.4.2; extra == \"accept-rom-license\"->gymnasium[ActionWrapper,accept-rom-license,box2d,classic_control]==0.29.1) (0.4.6)\n",
      "Requirement already satisfied: charset-normalizer<4,>=2 in c:\\users\\21310408\\appdata\\local\\anaconda3\\envs\\tf-env\\lib\\site-packages (from requests->autorom~=0.4.2->autorom[accept-rom-license]~=0.4.2; extra == \"accept-rom-license\"->gymnasium[ActionWrapper,accept-rom-license,box2d,classic_control]==0.29.1) (3.4.0)\n",
      "Requirement already satisfied: idna<4,>=2.5 in c:\\users\\21310408\\appdata\\local\\anaconda3\\envs\\tf-env\\lib\\site-packages (from requests->autorom~=0.4.2->autorom[accept-rom-license]~=0.4.2; extra == \"accept-rom-license\"->gymnasium[ActionWrapper,accept-rom-license,box2d,classic_control]==0.29.1) (3.10)\n",
      "Requirement already satisfied: urllib3<3,>=1.21.1 in c:\\users\\21310408\\appdata\\local\\anaconda3\\envs\\tf-env\\lib\\site-packages (from requests->autorom~=0.4.2->autorom[accept-rom-license]~=0.4.2; extra == \"accept-rom-license\"->gymnasium[ActionWrapper,accept-rom-license,box2d,classic_control]==0.29.1) (2.2.3)\n",
      "Requirement already satisfied: certifi>=2017.4.17 in c:\\users\\21310408\\appdata\\local\\anaconda3\\envs\\tf-env\\lib\\site-packages (from requests->autorom~=0.4.2->autorom[accept-rom-license]~=0.4.2; extra == \"accept-rom-license\"->gymnasium[ActionWrapper,accept-rom-license,box2d,classic_control]==0.29.1) (2024.8.30)\n",
      "Note: you may need to restart the kernel to use updated packages.\n"
     ]
    },
    {
     "name": "stderr",
     "output_type": "stream",
     "text": [
      "WARNING: gymnasium 0.29.1 does not provide the extra 'actionwrapper'\n"
     ]
    },
    {
     "name": "stdout",
     "output_type": "stream",
     "text": [
      "Requirement already satisfied: tensorflow==2.10 in c:\\users\\21310408\\appdata\\local\\anaconda3\\envs\\tf-env\\lib\\site-packages (2.10.0)\n",
      "Requirement already satisfied: absl-py>=1.0.0 in c:\\users\\21310408\\appdata\\local\\anaconda3\\envs\\tf-env\\lib\\site-packages (from tensorflow==2.10) (2.1.0)\n",
      "Requirement already satisfied: astunparse>=1.6.0 in c:\\users\\21310408\\appdata\\local\\anaconda3\\envs\\tf-env\\lib\\site-packages (from tensorflow==2.10) (1.6.3)\n",
      "Requirement already satisfied: flatbuffers>=2.0 in c:\\users\\21310408\\appdata\\local\\anaconda3\\envs\\tf-env\\lib\\site-packages (from tensorflow==2.10) (24.3.25)\n",
      "Requirement already satisfied: gast<=0.4.0,>=0.2.1 in c:\\users\\21310408\\appdata\\local\\anaconda3\\envs\\tf-env\\lib\\site-packages (from tensorflow==2.10) (0.4.0)\n",
      "Requirement already satisfied: google-pasta>=0.1.1 in c:\\users\\21310408\\appdata\\local\\anaconda3\\envs\\tf-env\\lib\\site-packages (from tensorflow==2.10) (0.2.0)\n",
      "Requirement already satisfied: h5py>=2.9.0 in c:\\users\\21310408\\appdata\\local\\anaconda3\\envs\\tf-env\\lib\\site-packages (from tensorflow==2.10) (3.12.1)\n",
      "Requirement already satisfied: keras-preprocessing>=1.1.1 in c:\\users\\21310408\\appdata\\local\\anaconda3\\envs\\tf-env\\lib\\site-packages (from tensorflow==2.10) (1.1.2)\n",
      "Requirement already satisfied: libclang>=13.0.0 in c:\\users\\21310408\\appdata\\local\\anaconda3\\envs\\tf-env\\lib\\site-packages (from tensorflow==2.10) (18.1.1)\n",
      "Requirement already satisfied: numpy>=1.20 in c:\\users\\21310408\\appdata\\local\\anaconda3\\envs\\tf-env\\lib\\site-packages (from tensorflow==2.10) (1.26.4)\n",
      "Requirement already satisfied: opt-einsum>=2.3.2 in c:\\users\\21310408\\appdata\\local\\anaconda3\\envs\\tf-env\\lib\\site-packages (from tensorflow==2.10) (3.4.0)\n",
      "Requirement already satisfied: packaging in c:\\users\\21310408\\appdata\\roaming\\python\\python310\\site-packages (from tensorflow==2.10) (24.2)\n",
      "Requirement already satisfied: protobuf<3.20,>=3.9.2 in c:\\users\\21310408\\appdata\\local\\anaconda3\\envs\\tf-env\\lib\\site-packages (from tensorflow==2.10) (3.19.6)\n",
      "Requirement already satisfied: setuptools in c:\\users\\21310408\\appdata\\local\\anaconda3\\envs\\tf-env\\lib\\site-packages (from tensorflow==2.10) (75.1.0)\n",
      "Requirement already satisfied: six>=1.12.0 in c:\\users\\21310408\\appdata\\roaming\\python\\python310\\site-packages (from tensorflow==2.10) (1.17.0)\n",
      "Requirement already satisfied: termcolor>=1.1.0 in c:\\users\\21310408\\appdata\\local\\anaconda3\\envs\\tf-env\\lib\\site-packages (from tensorflow==2.10) (2.5.0)\n",
      "Requirement already satisfied: typing-extensions>=3.6.6 in c:\\users\\21310408\\appdata\\roaming\\python\\python310\\site-packages (from tensorflow==2.10) (4.12.2)\n",
      "Requirement already satisfied: wrapt>=1.11.0 in c:\\users\\21310408\\appdata\\local\\anaconda3\\envs\\tf-env\\lib\\site-packages (from tensorflow==2.10) (1.17.0)\n",
      "Requirement already satisfied: tensorflow-io-gcs-filesystem>=0.23.1 in c:\\users\\21310408\\appdata\\local\\anaconda3\\envs\\tf-env\\lib\\site-packages (from tensorflow==2.10) (0.31.0)\n",
      "Requirement already satisfied: grpcio<2.0,>=1.24.3 in c:\\users\\21310408\\appdata\\local\\anaconda3\\envs\\tf-env\\lib\\site-packages (from tensorflow==2.10) (1.68.1)\n",
      "Requirement already satisfied: tensorboard<2.11,>=2.10 in c:\\users\\21310408\\appdata\\local\\anaconda3\\envs\\tf-env\\lib\\site-packages (from tensorflow==2.10) (2.10.1)\n",
      "Requirement already satisfied: tensorflow-estimator<2.11,>=2.10.0 in c:\\users\\21310408\\appdata\\local\\anaconda3\\envs\\tf-env\\lib\\site-packages (from tensorflow==2.10) (2.10.0)\n",
      "Requirement already satisfied: keras<2.11,>=2.10.0 in c:\\users\\21310408\\appdata\\local\\anaconda3\\envs\\tf-env\\lib\\site-packages (from tensorflow==2.10) (2.10.0)\n",
      "Requirement already satisfied: wheel<1.0,>=0.23.0 in c:\\users\\21310408\\appdata\\local\\anaconda3\\envs\\tf-env\\lib\\site-packages (from astunparse>=1.6.0->tensorflow==2.10) (0.44.0)\n",
      "Requirement already satisfied: google-auth<3,>=1.6.3 in c:\\users\\21310408\\appdata\\local\\anaconda3\\envs\\tf-env\\lib\\site-packages (from tensorboard<2.11,>=2.10->tensorflow==2.10) (2.36.0)\n",
      "Requirement already satisfied: google-auth-oauthlib<0.5,>=0.4.1 in c:\\users\\21310408\\appdata\\local\\anaconda3\\envs\\tf-env\\lib\\site-packages (from tensorboard<2.11,>=2.10->tensorflow==2.10) (0.4.6)\n",
      "Requirement already satisfied: markdown>=2.6.8 in c:\\users\\21310408\\appdata\\local\\anaconda3\\envs\\tf-env\\lib\\site-packages (from tensorboard<2.11,>=2.10->tensorflow==2.10) (3.7)\n",
      "Requirement already satisfied: requests<3,>=2.21.0 in c:\\users\\21310408\\appdata\\local\\anaconda3\\envs\\tf-env\\lib\\site-packages (from tensorboard<2.11,>=2.10->tensorflow==2.10) (2.32.3)\n",
      "Requirement already satisfied: tensorboard-data-server<0.7.0,>=0.6.0 in c:\\users\\21310408\\appdata\\local\\anaconda3\\envs\\tf-env\\lib\\site-packages (from tensorboard<2.11,>=2.10->tensorflow==2.10) (0.6.1)\n",
      "Requirement already satisfied: tensorboard-plugin-wit>=1.6.0 in c:\\users\\21310408\\appdata\\local\\anaconda3\\envs\\tf-env\\lib\\site-packages (from tensorboard<2.11,>=2.10->tensorflow==2.10) (1.8.1)\n",
      "Requirement already satisfied: werkzeug>=1.0.1 in c:\\users\\21310408\\appdata\\local\\anaconda3\\envs\\tf-env\\lib\\site-packages (from tensorboard<2.11,>=2.10->tensorflow==2.10) (3.1.3)\n",
      "Requirement already satisfied: cachetools<6.0,>=2.0.0 in c:\\users\\21310408\\appdata\\local\\anaconda3\\envs\\tf-env\\lib\\site-packages (from google-auth<3,>=1.6.3->tensorboard<2.11,>=2.10->tensorflow==2.10) (5.5.0)\n",
      "Requirement already satisfied: pyasn1-modules>=0.2.1 in c:\\users\\21310408\\appdata\\local\\anaconda3\\envs\\tf-env\\lib\\site-packages (from google-auth<3,>=1.6.3->tensorboard<2.11,>=2.10->tensorflow==2.10) (0.4.1)\n",
      "Requirement already satisfied: rsa<5,>=3.1.4 in c:\\users\\21310408\\appdata\\local\\anaconda3\\envs\\tf-env\\lib\\site-packages (from google-auth<3,>=1.6.3->tensorboard<2.11,>=2.10->tensorflow==2.10) (4.9)\n",
      "Requirement already satisfied: requests-oauthlib>=0.7.0 in c:\\users\\21310408\\appdata\\local\\anaconda3\\envs\\tf-env\\lib\\site-packages (from google-auth-oauthlib<0.5,>=0.4.1->tensorboard<2.11,>=2.10->tensorflow==2.10) (2.0.0)\n",
      "Requirement already satisfied: charset-normalizer<4,>=2 in c:\\users\\21310408\\appdata\\local\\anaconda3\\envs\\tf-env\\lib\\site-packages (from requests<3,>=2.21.0->tensorboard<2.11,>=2.10->tensorflow==2.10) (3.4.0)\n",
      "Requirement already satisfied: idna<4,>=2.5 in c:\\users\\21310408\\appdata\\local\\anaconda3\\envs\\tf-env\\lib\\site-packages (from requests<3,>=2.21.0->tensorboard<2.11,>=2.10->tensorflow==2.10) (3.10)\n",
      "Requirement already satisfied: urllib3<3,>=1.21.1 in c:\\users\\21310408\\appdata\\local\\anaconda3\\envs\\tf-env\\lib\\site-packages (from requests<3,>=2.21.0->tensorboard<2.11,>=2.10->tensorflow==2.10) (2.2.3)\n",
      "Requirement already satisfied: certifi>=2017.4.17 in c:\\users\\21310408\\appdata\\local\\anaconda3\\envs\\tf-env\\lib\\site-packages (from requests<3,>=2.21.0->tensorboard<2.11,>=2.10->tensorflow==2.10) (2024.8.30)\n",
      "Requirement already satisfied: MarkupSafe>=2.1.1 in c:\\users\\21310408\\appdata\\local\\anaconda3\\envs\\tf-env\\lib\\site-packages (from werkzeug>=1.0.1->tensorboard<2.11,>=2.10->tensorflow==2.10) (3.0.2)\n",
      "Requirement already satisfied: pyasn1<0.7.0,>=0.4.6 in c:\\users\\21310408\\appdata\\local\\anaconda3\\envs\\tf-env\\lib\\site-packages (from pyasn1-modules>=0.2.1->google-auth<3,>=1.6.3->tensorboard<2.11,>=2.10->tensorflow==2.10) (0.6.1)\n",
      "Requirement already satisfied: oauthlib>=3.0.0 in c:\\users\\21310408\\appdata\\local\\anaconda3\\envs\\tf-env\\lib\\site-packages (from requests-oauthlib>=0.7.0->google-auth-oauthlib<0.5,>=0.4.1->tensorboard<2.11,>=2.10->tensorflow==2.10) (3.2.2)\n",
      "Note: you may need to restart the kernel to use updated packages.\n",
      "Requirement already satisfied: numpy<2 in c:\\users\\21310408\\appdata\\local\\anaconda3\\envs\\tf-env\\lib\\site-packages (1.26.4)\n",
      "Note: you may need to restart the kernel to use updated packages.\n",
      "Requirement already satisfied: matplotlib in c:\\users\\21310408\\appdata\\local\\anaconda3\\envs\\tf-env\\lib\\site-packages (3.9.3)\n",
      "Requirement already satisfied: contourpy>=1.0.1 in c:\\users\\21310408\\appdata\\local\\anaconda3\\envs\\tf-env\\lib\\site-packages (from matplotlib) (1.3.1)\n",
      "Requirement already satisfied: cycler>=0.10 in c:\\users\\21310408\\appdata\\local\\anaconda3\\envs\\tf-env\\lib\\site-packages (from matplotlib) (0.12.1)\n",
      "Requirement already satisfied: fonttools>=4.22.0 in c:\\users\\21310408\\appdata\\local\\anaconda3\\envs\\tf-env\\lib\\site-packages (from matplotlib) (4.55.2)\n",
      "Requirement already satisfied: kiwisolver>=1.3.1 in c:\\users\\21310408\\appdata\\local\\anaconda3\\envs\\tf-env\\lib\\site-packages (from matplotlib) (1.4.7)\n",
      "Requirement already satisfied: numpy>=1.23 in c:\\users\\21310408\\appdata\\local\\anaconda3\\envs\\tf-env\\lib\\site-packages (from matplotlib) (1.26.4)\n",
      "Requirement already satisfied: packaging>=20.0 in c:\\users\\21310408\\appdata\\roaming\\python\\python310\\site-packages (from matplotlib) (24.2)\n",
      "Requirement already satisfied: pillow>=8 in c:\\users\\21310408\\appdata\\local\\anaconda3\\envs\\tf-env\\lib\\site-packages (from matplotlib) (11.0.0)\n",
      "Requirement already satisfied: pyparsing>=2.3.1 in c:\\users\\21310408\\appdata\\local\\anaconda3\\envs\\tf-env\\lib\\site-packages (from matplotlib) (3.2.0)\n",
      "Requirement already satisfied: python-dateutil>=2.7 in c:\\users\\21310408\\appdata\\roaming\\python\\python310\\site-packages (from matplotlib) (2.9.0.post0)\n",
      "Requirement already satisfied: six>=1.5 in c:\\users\\21310408\\appdata\\roaming\\python\\python310\\site-packages (from python-dateutil>=2.7->matplotlib) (1.17.0)\n",
      "Note: you may need to restart the kernel to use updated packages.\n",
      "Requirement already satisfied: opencv-python in c:\\users\\21310408\\appdata\\local\\anaconda3\\envs\\tf-env\\lib\\site-packages (4.10.0.84)\n",
      "Requirement already satisfied: numpy>=1.21.2 in c:\\users\\21310408\\appdata\\local\\anaconda3\\envs\\tf-env\\lib\\site-packages (from opencv-python) (1.26.4)\n",
      "Note: you may need to restart the kernel to use updated packages.\n"
     ]
    }
   ],
   "source": [
    "%pip install --upgrade pip\n",
    "%pip install -q -U gymnasium swig\n",
    "%pip install gymnasium[atari]==0.29.1\n",
    "%pip install gymnasium[classic_control,box2d,accept-rom-license,ActionWrapper]==0.29.1\n",
    "%pip install tensorflow==2.10\n",
    "%pip install \"numpy<2\"\n",
    "%pip install matplotlib\n",
    "%pip install opencv-python"
   ]
  },
  {
   "cell_type": "code",
   "execution_count": 5,
   "metadata": {
    "ExecuteTime": {
     "end_time": "2024-12-10T14:38:14.554959Z",
     "start_time": "2024-12-10T14:38:11.859470Z"
    }
   },
   "outputs": [
    {
     "name": "stdout",
     "output_type": "stream",
     "text": [
      "Num GPUs Available:  1\n",
      "GPUs available:\n",
      "Name: NVIDIA GeForce RTX 4060\n",
      "2.10.0\n"
     ]
    }
   ],
   "source": [
    "import tensorflow as tf\n",
    "tf.debugging.set_log_device_placement(False)\n",
    "print(\"Num GPUs Available: \", len(tf.config.list_physical_devices('GPU')))\n",
    "\n",
    "gpus = tf.config.list_physical_devices('GPU')\n",
    "\n",
    "if gpus:\n",
    "    print(\"GPUs available:\")\n",
    "    for gpu in gpus:\n",
    "        details = tf.config.experimental.get_device_details(gpu)\n",
    "        print(\"Name:\", details.get('device_name', 'Unknown GPU'))\n",
    "else:\n",
    "    print(\"No GPU available.\")\n",
    "\n",
    "print(tf.__version__)\n",
    "\n",
    "import os\n",
    "os.environ[\"CUDA_VISIBLE_DEVICES\"] = \"0\" # set gpu 0 as default\n",
    "# Suppressing TensorFlow's informational and warning logs to avoid output clutter.\n",
    "os.environ['TF_CPP_MIN_LOG_LEVEL'] = '2'\n",
    "os.environ['TF_CPP_MIN_LOG_LEVEL'] = '3'\n",
    "tf.get_logger().setLevel('ERROR')\n",
    "\n",
    "gpus = tf.config.list_physical_devices('GPU')\n",
    "if gpus:\n",
    "    try:\n",
    "        # Set TensorFlow to use only GPU 1\n",
    "        tf.config.set_visible_devices(gpus[0], 'GPU')\n",
    "        tf.config.experimental.set_memory_growth(gpus[0], True)\n",
    "    except RuntimeError as e:\n",
    "        print(e)"
   ]
  },
  {
   "cell_type": "code",
   "execution_count": 6,
   "metadata": {
    "ExecuteTime": {
     "end_time": "2024-12-10T14:40:58.327484Z",
     "start_time": "2024-12-10T14:40:58.264785Z"
    }
   },
   "outputs": [
    {
     "name": "stdout",
     "output_type": "stream",
     "text": [
      "Action space: Discrete(6)\n",
      "Observation space: Box(0, 255, (210, 160, 3), uint8)\n"
     ]
    }
   ],
   "source": [
    "# Importing libraries\n",
    "import gymnasium as gym\n",
    "\n",
    "# Creating the environment\n",
    "env = gym.make(\"ALE/Qbert-v5\", render_mode=\"rgb_array\", frameskip=4)\n",
    "\n",
    "# Inspecting the environment\n",
    "print(\"Action space:\", env.action_space)\n",
    "print(\"Observation space:\", env.observation_space)"
   ]
  },
  {
   "cell_type": "code",
   "execution_count": null,
   "metadata": {
    "ExecuteTime": {
     "end_time": "2024-12-10T14:41:00.314343Z",
     "start_time": "2024-12-10T14:41:00.298417Z"
    }
   },
   "outputs": [
    {
     "name": "stdout",
     "output_type": "stream",
     "text": [
      "Processed frame shape: (84, 84)\n"
     ]
    }
   ],
   "source": [
    "import numpy as np\n",
    "import cv2\n",
    "from collections import deque\n",
    "\n",
    "# Function to preprocess a single frame\n",
    "def preprocess_frame(frame, augment=False):\n",
    "    # Ensure the input is a NumPy array\n",
    "    if isinstance(frame, tuple):\n",
    "        frame = frame[0]  # Extract the observation if it's a tuple\n",
    "    frame = np.array(frame)  # Ensure it's a NumPy array\n",
    "    # Convert to grayscale\n",
    "    gray_frame = cv2.cvtColor(frame, cv2.COLOR_RGB2GRAY)\n",
    "    # Resize to 84x84\n",
    "    resized_frame = cv2.resize(gray_frame, (84, 84))\n",
    "\n",
    "    # Normalize the frame to the range [0, 1]\n",
    "    normalized_frame = resized_frame / 255.0\n",
    "\n",
    "    if augment:\n",
    "        # Random horizontal flip\n",
    "        if np.random.random() > 0.5:\n",
    "            normalized_frame = np.fliplr(normalized_frame)\n",
    "        # Add random noise\n",
    "        if np.random.random() > 0.7:\n",
    "            noise = np.random.normal(0, 0.01, normalized_frame.shape)\n",
    "            normalized_frame = np.clip(normalized_frame + noise, 0, 1)\n",
    "    return normalized_frame\n",
    "\n",
    "# Initialize frame stack\n",
    "frame_stack = deque(maxlen=4)\n",
    "\n",
    "# Reset environment and initialize stack\n",
    "def reset_env_with_stack(env):\n",
    "    state, info = env.reset()\n",
    "    processed_frame = preprocess_frame(state)\n",
    "    for _ in range(4):  # Stack 4 identical frames initially\n",
    "        frame_stack.append(processed_frame)\n",
    "    return np.stack(frame_stack, axis=-1), info  # Shape: (84, 84, 4)\n",
    "\n",
    "# Step the environment with frame stacking\n",
    "def step_env_with_stack(env, action):\n",
    "    next_state, reward, done, truncated, info = env.step(action)\n",
    "    processed_frame = preprocess_frame(next_state)\n",
    "    frame_stack.append(processed_frame)\n",
    "    return np.stack(frame_stack, axis=-1), reward, done, truncated, info\n",
    "\n",
    "state, _ = env.reset()\n",
    "processed_frame = preprocess_frame(state, augment=False)\n",
    "print(\"Processed frame shape:\", processed_frame.shape)"
   ]
  },
  {
   "cell_type": "code",
   "execution_count": null,
   "metadata": {
    "ExecuteTime": {
     "end_time": "2024-12-10T14:41:01.855193Z",
     "start_time": "2024-12-10T14:41:01.776916Z"
    }
   },
   "outputs": [
    {
     "data": {
      "image/png": "[encoded data removed]",
      "text/plain": [
       "<Figure size 640x480 with 1 Axes>"
      ]
     },
     "metadata": {},
     "output_type": "display_data"
    }
   ],
   "source": [
    "import matplotlib.pyplot as plt\n",
    "\n",
    "state, _ = env.reset()\n",
    "processed_frame = preprocess_frame(state, augment=False)\n",
    "plt.imshow(processed_frame, cmap='gray')\n",
    "plt.title(\"Augmented Frame\")\n",
    "plt.show()"
   ]
  },
  {
   "cell_type": "code",
   "execution_count": 10,
   "metadata": {
    "ExecuteTime": {
     "end_time": "2024-12-10T14:48:29.413248Z",
     "start_time": "2024-12-10T14:48:29.252829Z"
    }
   },
   "outputs": [
    {
     "name": "stdout",
     "output_type": "stream",
     "text": [
      "Model: \"sequential\"\n",
      "_________________________________________________________________\n",
      " Layer (type)                Output Shape              Param #   \n",
      "=================================================================\n",
      " conv2d (Conv2D)             (None, 21, 21, 32)        2080      \n",
      "                                                                 \n",
      " batch_normalization (BatchN  (None, 21, 21, 32)       128       \n",
      " ormalization)                                                   \n",
      "                                                                 \n",
      " conv2d_1 (Conv2D)           (None, 10, 10, 64)        8256      \n",
      "                                                                 \n",
      " batch_normalization_1 (Batc  (None, 10, 10, 64)       256       \n",
      " hNormalization)                                                 \n",
      "                                                                 \n",
      " conv2d_2 (Conv2D)           (None, 10, 10, 64)        4160      \n",
      "                                                                 \n",
      " batch_normalization_2 (Batc  (None, 10, 10, 64)       256       \n",
      " hNormalization)                                                 \n",
      "                                                                 \n",
      " flatten (Flatten)           (None, 6400)              0         \n",
      "                                                                 \n",
      " dense (Dense)               (None, 64)                409664    \n",
      "                                                                 \n",
      " dense_1 (Dense)             (None, 6)                 390       \n",
      "                                                                 \n",
      "=================================================================\n",
      "Total params: 425,190\n",
      "Trainable params: 424,870\n",
      "Non-trainable params: 320\n",
      "_________________________________________________________________\n"
     ]
    }
   ],
   "source": [
    "import tensorflow as tf\n",
    "from tensorflow.keras import layers, models\n",
    "\n",
    "# Define the DQN model\n",
    "def create_dqn(action_space):\n",
    "    model = models.Sequential([\n",
    "        layers.Conv2D(32, (4, 4), strides=4, activation='relu', input_shape=(84, 84, 4)),\n",
    "        layers.BatchNormalization(),\n",
    "        layers.Conv2D(64, (2, 2), strides=2, activation='relu'),\n",
    "        layers.BatchNormalization(),\n",
    "        layers.Conv2D(64, (1, 1), strides=1, activation='relu'),\n",
    "        layers.BatchNormalization(),\n",
    "        layers.Flatten(),\n",
    "        layers.Dense(64, activation='relu'),\n",
    "        layers.Dense(action_space, activation='linear')\n",
    "    ])\n",
    "    return model\n",
    "\n",
    "# Initialize the model\n",
    "dqn_model = create_dqn(env.action_space.n)\n",
    "dqn_model.summary()"
   ]
  },
  {
   "cell_type": "code",
   "execution_count": null,
   "metadata": {
    "ExecuteTime": {
     "end_time": "2024-12-10T14:50:20.065494Z",
     "start_time": "2024-12-10T14:50:20.049832Z"
    }
   },
   "outputs": [],
   "source": [
    "class ReplayBuffer:\n",
    "    def __init__(self, capacity):\n",
    "        self.buffer = deque(maxlen=capacity)\n",
    "\n",
    "    def add(self, experience):\n",
    "        self.buffer.append(experience)\n",
    "\n",
    "    def sample(self, batch_size):\n",
    "        batch = random.sample(self.buffer, batch_size)\n",
    "        states, actions, rewards, next_states, dones = zip(*batch)\n",
    "        return (\n",
    "            np.array(states),\n",
    "            np.array(actions),\n",
    "            np.array(rewards),\n",
    "            np.array(next_states),\n",
    "            np.array(dones)\n",
    "        )\n",
    "\n",
    "    def size(self):\n",
    "        return len(self.buffer)\n",
    "\n",
    "replay_buffer = ReplayBuffer(capacity=50000)"
   ]
  },
  {
   "cell_type": "code",
   "execution_count": null,
   "metadata": {
    "ExecuteTime": {
     "end_time": "2024-12-10T14:50:21.460118Z",
     "start_time": "2024-12-10T14:50:21.444472Z"
    }
   },
   "outputs": [],
   "source": [
    "import random\n",
    "\n",
    "def select_action(model, state, epsilon, action_space):\n",
    "    if random.random() < epsilon:\n",
    "        return random.randint(0, action_space - 1)  # Random action\n",
    "    else:\n",
    "        q_values = model.predict(state[None, ...], verbose=0)\n",
    "        return np.argmax(q_values)"
   ]
  },
  {
   "cell_type": "code",
   "execution_count": null,
   "metadata": {
    "ExecuteTime": {
     "end_time": "2024-12-10T14:50:26.608486Z",
     "start_time": "2024-12-10T14:50:26.592747Z"
    }
   },
   "outputs": [],
   "source": [
    "from gymnasium.wrappers.monitoring.video_recorder import VideoRecorder\n",
    "\n",
    "def record_gameplay(env, model, video_path=\"trained_agent_gameplay.mp4\"):\n",
    "    # Initialize video recorder\n",
    "    recorder = VideoRecorder(env, video_path)\n",
    "\n",
    "    # Initialize frame stack\n",
    "    frame_stack = deque(maxlen=4)\n",
    "\n",
    "    # Reset the environment\n",
    "    state, info = env.reset()\n",
    "    processed_frame = preprocess_frame(state)\n",
    "\n",
    "    # Stack the same frame 4 times initially\n",
    "    for _ in range(4):\n",
    "        frame_stack.append(processed_frame)\n",
    "\n",
    "    state = np.stack(frame_stack, axis=-1)  # Create the 4-channel input\n",
    "\n",
    "    for _ in range(500):  # Limit steps in the episode\n",
    "        # Predict action based on the current state\n",
    "        action = np.argmax(model.predict(state[None, ...], verbose=0))\n",
    "\n",
    "        # Take a step in the environment\n",
    "        next_state, reward, done, truncated, info = env.step(action)\n",
    "\n",
    "        # Record the frame\n",
    "        recorder.capture_frame()\n",
    "\n",
    "        # Preprocess the next frame and update the stack\n",
    "        processed_frame = preprocess_frame(next_state)\n",
    "        frame_stack.append(processed_frame)\n",
    "        state = np.stack(frame_stack, axis=-1)  # Update input state\n",
    "\n",
    "        if done:\n",
    "            break\n",
    "\n",
    "    # Close the recorder and save the video\n",
    "    recorder.close()\n",
    "    recorder.enabled = False\n",
    "    print(f\"Gameplay recorded at recordings/{video_path}\")\n"
   ]
  },
  {
   "cell_type": "code",
   "execution_count": null,
   "metadata": {
    "ExecuteTime": {
     "end_time": "2024-12-10T16:04:09.378489Z",
     "start_time": "2024-12-10T15:08:31.599830Z"
    }
   },
   "outputs": [],
   "source": [
    "def train_dqn(env, model, target_model, replay_buffer, episodes=500, batch_size=32, gamma=0.99, epsilon=1.0, epsilon_min=0.1, epsilon_decay=0.995, update_target=10, verbose=0):\n",
    "    \"\"\"\n",
    "    Train the DQN model using survival-based rewards.\n",
    "    \"\"\"\n",
    "    optimizer = tf.keras.optimizers.Adam(learning_rate=0.0001)\n",
    "    loss_fn = tf.keras.losses.Huber()\n",
    "    rewards_history = []\n",
    "\n",
    "    for episode in range(episodes):\n",
    "        state, _ = reset_env_with_stack(env)\n",
    "        total_reward = 0\n",
    "        survival_time = 0  # Track survival time in steps\n",
    "        episode_loss = 0\n",
    "\n",
    "        for step in range(10000):  # Limit steps per episode\n",
    "            action = select_action(model, state, epsilon, env.action_space.n)\n",
    "            next_state, reward, done, truncated, _ = step_env_with_stack(env, action)\n",
    "\n",
    "            # Calculate adjusted reward\n",
    "            survival_time += 1\n",
    "            base_reward = 1  # Reward for surviving\n",
    "            penalty = -120 / survival_time if done else 0  # Penalize more for short survival\n",
    "            bonus = 15 if reward > 0  else 0\n",
    "            adjusted_reward = base_reward + reward + penalty + bonus\n",
    "\n",
    "            if survival_time == 350:  # Encourage longer survival\n",
    "                adjusted_reward += 25\n",
    "\n",
    "\n",
    "\n",
    "            # Store adjusted reward in replay buffer\n",
    "            replay_buffer.add((state, action, adjusted_reward, next_state, done))\n",
    "            state = next_state\n",
    "            total_reward += adjusted_reward\n",
    "\n",
    "            if replay_buffer.size() > batch_size:\n",
    "                # Sample from the replay buffer\n",
    "                states, actions, rewards, next_states, dones = replay_buffer.sample(batch_size=batch_size)\n",
    "\n",
    "                # Double DQN: Use the model to select actions, but the target model to evaluate Q-values\n",
    "                next_q_actions = np.argmax(model.predict(next_states, verbose=verbose), axis=1)\n",
    "                next_q_values = target_model.predict(next_states, verbose=verbose)\n",
    "                target_q_values = rewards + gamma * next_q_values[np.arange(batch_size), next_q_actions] * (1 - dones)\n",
    "\n",
    "                with tf.GradientTape() as tape:\n",
    "                    q_values = model(states)\n",
    "                    q_values = tf.reduce_sum(q_values * tf.one_hot(actions, env.action_space.n), axis=1)\n",
    "                    loss = loss_fn(target_q_values, q_values)\n",
    "                    episode_loss += loss.numpy()\n",
    "\n",
    "                grads = tape.gradient(loss, model.trainable_variables)\n",
    "                optimizer.apply_gradients(zip(grads, model.trainable_variables))\n",
    "\n",
    "            if done:\n",
    "                break\n",
    "\n",
    "        if episode >= 40:\n",
    "            epsilon = max(0.3, epsilon * epsilon_decay)  # Drop epsilon to 0.3 after episode 40\n",
    "        else:\n",
    "            # Update epsilon for exploration-exploitation tradeoff\n",
    "            epsilon = max(epsilon_min, epsilon * epsilon_decay)\n",
    "\n",
    "        # Update target model weights periodically\n",
    "        if episode % update_target == 0:\n",
    "            target_model.set_weights(model.get_weights())\n",
    "\n",
    "        rewards_history.append(total_reward)\n",
    "        print(f\"Episode {episode + 1}/{episodes}, Reward: {total_reward:.2f}, Survival Time: {survival_time}, Epsilon: {epsilon:.3f}\")\n",
    "\n",
    "    return rewards_history\n",
    "\n",
    "target_model = create_dqn(env.action_space.n)\n",
    "target_model.set_weights(dqn_model.get_weights())  # Synchronize weights\n",
    "\n",
    "rewards_history = train_dqn(\n",
    "    env=env,\n",
    "    model=dqn_model,\n",
    "    target_model=target_model,\n",
    "    replay_buffer=replay_buffer,\n",
    "    episodes=100,  # Adjust for quick testing\n",
    "    batch_size=32,\n",
    "    gamma=0.99,\n",
    "    epsilon=1.0,\n",
    "    epsilon_min=0.1,\n",
    "    epsilon_decay=0.98,\n",
    "    update_target=5,\n",
    "    verbose=0\n",
    ")\n",
    "print(\"Training complete!\")"
   ]
  },
  {
   "cell_type": "code",
   "execution_count": null,
   "metadata": {},
   "outputs": [],
   "source": [
    "record_gameplay(env, dqn_model, video_path=\"trained_agent_gameplay.mp4\")"
   ]
  },
  {
   "cell_type": "code",
   "execution_count": null,
   "metadata": {},
   "outputs": [],
   "source": [
    "# Save the model's weights\n",
    "dqn_model.save_weights(\"models/dqn_model_weights.h5\")\n",
    "print(\"Model weights saved!\")"
   ]
  },
  {
   "cell_type": "code",
   "execution_count": null,
   "metadata": {
    "ExecuteTime": {
     "end_time": "2024-12-10T06:13:34.891012Z",
     "start_time": "2024-12-10T06:13:34.805497Z"
    }
   },
   "outputs": [],
   "source": [
    "# Save the entire model\n",
    "dqn_model.save(\"models/dqn_model.h5\")\n",
    "print(\"Model saved!\")"
   ]
  },
  {
   "cell_type": "code",
   "execution_count": null,
   "metadata": {
    "ExecuteTime": {
     "end_time": "2024-12-10T13:44:23.063705Z",
     "start_time": "2024-12-10T13:43:28.665797Z"
    }
   },
   "outputs": [],
   "source": [
    "def evaluate_agent(env, model, episodes=10):\n",
    "    total_rewards = []\n",
    "    for episode in range(episodes):\n",
    "        state, _ = reset_env_with_stack(env)\n",
    "        total_reward = 0\n",
    "        done = False\n",
    "\n",
    "        while not done:\n",
    "            action = np.argmax(model.predict(state[None, ...], verbose=0))\n",
    "            next_state, reward, done, truncated, _ = step_env_with_stack(env, action)\n",
    "            state = next_state\n",
    "            total_reward += reward\n",
    "\n",
    "        total_rewards.append(total_reward)\n",
    "        print(f\"Episode {episode + 1}, Reward: {total_reward}\")\n",
    "\n",
    "    print(f\"Average Reward: {np.mean(total_rewards)}\")\n",
    "\n",
    "evaluate_agent(env, dqn_model, episodes=3)"
   ]
  },
  {
   "cell_type": "code",
   "execution_count": null,
   "metadata": {
    "ExecuteTime": {
     "end_time": "2024-12-10T13:47:19.945882Z",
     "start_time": "2024-12-10T13:47:19.882484Z"
    }
   },
   "outputs": [],
   "source": [
    "import matplotlib.pyplot as plt\n",
    "\n",
    "def plot_rewards(rewards):\n",
    "    plt.plot(rewards)\n",
    "    plt.xlabel('Episodes')\n",
    "    plt.ylabel('Total Reward')\n",
    "    plt.title('Training Rewards')\n",
    "    plt.show()\n",
    "\n",
    "# Example\n",
    "plot_rewards(rewards_history)\n"
   ]
  },
  {
   "cell_type": "code",
   "execution_count": null,
   "metadata": {
    "ExecuteTime": {
     "end_time": "2024-12-10T13:47:26.137907Z",
     "start_time": "2024-12-10T13:47:26.090493Z"
    }
   },
   "outputs": [],
   "source": [
    "# Calculate key statistics\n",
    "average_reward = np.mean(rewards_history)\n",
    "max_reward = np.max(rewards_history)\n",
    "\n",
    "# Plot the rewards with highlights\n",
    "plt.plot(rewards_history, label=\"Raw Rewards\")\n",
    "plt.axhline(average_reward, color='r', linestyle='--', label=f\"Average Reward: {average_reward:.2f}\")\n",
    "plt.axhline(max_reward, color='g', linestyle='--', label=f\"Max Reward: {max_reward}\")\n",
    "plt.title(\"Training Rewards with Statistics\")\n",
    "plt.xlabel(\"Episodes\")\n",
    "plt.ylabel(\"Total Reward\")\n",
    "plt.legend()\n",
    "plt.show()\n"
   ]
  },
  {
   "cell_type": "code",
   "execution_count": null,
   "metadata": {
    "ExecuteTime": {
     "end_time": "2024-12-10T06:20:48.462414Z",
     "start_time": "2024-12-10T06:20:48.186683Z"
    }
   },
   "outputs": [],
   "source": [
    "window = 10  # Adjust the window size as needed\n",
    "smoothed_rewards = np.convolve(rewards_history, np.ones(window)/window, mode='valid')\n",
    "\n",
    "# Plot smoothed rewards\n",
    "plt.plot(smoothed_rewards)\n",
    "plt.title(\"Smoothed Training Rewards\")\n",
    "plt.xlabel(\"Episodes\")\n",
    "plt.ylabel(\"Total Reward\")\n",
    "plt.show()"
   ]
  },
  {
   "cell_type": "code",
   "execution_count": null,
   "metadata": {
    "ExecuteTime": {
     "end_time": "2024-12-10T06:21:27.632894Z",
     "start_time": "2024-12-10T06:21:27.334487Z"
    }
   },
   "outputs": [],
   "source": [
    "# Segment rewards into blocks\n",
    "block_size = 10\n",
    "block_means = [np.mean(rewards_history[i:i+block_size]) for i in range(0, len(rewards_history), block_size)]\n",
    "\n",
    "# Plot block means\n",
    "plt.plot(block_means)\n",
    "plt.title(\"Mean Reward Per Block of Episodes\")\n",
    "plt.xlabel(\"Blocks (10 episodes each)\")\n",
    "plt.ylabel(\"Mean Reward\")\n",
    "plt.show()\n"
   ]
  },
  {
   "cell_type": "code",
   "execution_count": null,
   "metadata": {
    "ExecuteTime": {
     "end_time": "2024-12-10T06:21:04.444648Z",
     "start_time": "2024-12-10T06:21:04.047819Z"
    }
   },
   "outputs": [],
   "source": [
    "# Calculate cumulative rewards\n",
    "cumulative_rewards = np.cumsum(rewards_history)\n",
    "\n",
    "# Plot cumulative rewards\n",
    "plt.plot(cumulative_rewards)\n",
    "plt.title(\"Cumulative Training Rewards\")\n",
    "plt.xlabel(\"Episodes\")\n",
    "plt.ylabel(\"Cumulative Reward\")\n",
    "plt.show()\n"
   ]
  },
  {
   "cell_type": "code",
   "execution_count": null,
   "metadata": {},
   "outputs": [],
   "source": []
  }
 ],
 "metadata": {
  "kernelspec": {
   "display_name": "Python 3 (ipykernel)",
   "language": "python",
   "name": "python3"
  },
  "language_info": {
   "name": "python"
  }
 },
 "nbformat": 4,
 "nbformat_minor": 2
}
